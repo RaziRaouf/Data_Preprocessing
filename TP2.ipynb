{
 "cells": [
  {
   "cell_type": "code",
   "execution_count": null,
   "id": "244cb817",
   "metadata": {},
   "outputs": [],
   "source": [
    "import librosa\n",
    "import librosa.display\n",
    "import matplotlib.pyplot as plt\n",
    "import numpy as np\n",
    "from IPython.display import Audio\n",
    "\n",
    "\n",
    "file_path = 'dog.wav'  \n",
    "signal, sr = librosa.load(file_path)\n",
    "\n",
    "signal_size = len(signal)\n",
    "time = np.linspace(0, signal_size / sr, signal_size)\n",
    "\n",
    "print(f\"Signal size: {signal_size} samples\")\n",
    "print(f\"Duration: {signal_size / sr} seconds\")\n",
    "\n",
    "# 3. Plot the waveform\n",
    "plt.figure(figsize=(10, 4))\n",
    "librosa.display.waveshow(signal, sr=sr)\n",
    "plt.title(\"Waveform of the Audio Signal\")\n",
    "plt.xlabel(\"Time (s)\")\n",
    "plt.ylabel(\"Amplitude\")\n",
    "plt.show()\n",
    "\n",
    "\n",
    "D = librosa.amplitude_to_db(librosa.stft(signal), ref=np.max)\n",
    "plt.figure(figsize=(10, 4))\n",
    "librosa.display.specshow(D, sr=sr, x_axis='time', y_axis='log')\n",
    "plt.title(\"Spectrogram\")\n",
    "plt.colorbar(format='%+2.0f dB')\n",
    "plt.show()\n",
    "\n",
    "# 5. Play the sound in the notebook\n",
    "Audio(file_path)  # This will play the audio in the notebook. Make sure the path is correct."
   ]
  }
 ],
 "metadata": {
  "language_info": {
   "name": "python"
  }
 },
 "nbformat": 4,
 "nbformat_minor": 5
}
